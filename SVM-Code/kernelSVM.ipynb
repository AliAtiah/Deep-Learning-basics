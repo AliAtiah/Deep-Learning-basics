{
 "cells": [
  {
   "cell_type": "markdown",
   "metadata": {},
   "source": [
    "<h2>About this Project</h2>\n",
    "<p>In this project, you will implement a kernelized SVM (support vector machine). You will generate linearly separable and non-linearly separable datasets, write functions to SVMs that support a variety of different kernels, and then visualize the decision boundary created.</p>\n",
    "\n",
    "<h3>Evaluation</h3>\n",
    "\n",
    "<p><strong>This project must be successfully completed and submitted in order to receive credit for this course. Your score on this project will be included in your final grade calculation.</strong><p>\n",
    "    \n",
    "<p>You are expected to write code where you see <em># YOUR CODE HERE</em> within the cells of this notebook. Not all cells will be graded; code input cells followed by cells marked with <em>#Autograder test cell</em> will be graded. Upon submitting your work, the code you write at these designated positions will be assessed using an \"autograder\" that will run all test cells to assess your code. You will receive feedback from the autograder that will identify any errors in your code. Use this feedback to improve your code if you need to resubmit. Be sure not to change the names of any provided functions, classes, or variables within the existing code cells, as this will interfere with the autograder. Also, remember to execute all code cells sequentially, not just those you’ve edited, to ensure your code runs properly.</p>\n",
    "    \n",
    "<p>You can resubmit your work as many times as necessary before the submission deadline. If you experience difficulty or have questions about this exercise, use the Q&A discussion board to engage with your peers or seek assistance from the instructor.<p>\n",
    "\n",
    "<p>Before starting your work, please review <a href=\"https://s3.amazonaws.com/ecornell/global/eCornellPlagiarismPolicy.pdf\">eCornell's policy regarding plagiarism</a> (the presentation of someone else's work as your own without source credit).</p>\n",
    "\n",
    "<h3>Submit Code for Autograder Feedback</h3>\n",
    "\n",
    "<p>Once you have completed your work on this notebook, you will submit your code for autograder review. Follow these steps:</p>\n",
    "\n",
    "<ol>\n",
    "  <li><strong>Save your notebook.</strong></li>\n",
    "  <li><strong>Mark as Completed —</strong> In the blue menu bar along the top of this code exercise window, you’ll see a menu item called <strong>Education</strong>. In the <strong>Education</strong> menu, click <strong>Mark as Completed</strong> to submit your code for autograder/instructor review. This process will take a moment and a progress bar will show you the status of your submission.</li>\n",
    "\t<li><strong>Review your results —</strong> Once your work is marked as complete, the results of the autograder will automatically be presented in a new tab within the code exercise window. You can click on the assessment name in this feedback window to see more details regarding specific feedback/errors in your code submission.</li>\n",
    "  <li><strong>Repeat, if necessary —</strong> The Jupyter notebook will always remain accessible in the first tabbed window of the exercise. To reattempt the work, you will first need to click <strong>Mark as Uncompleted</strong> in the <strong>Education</strong> menu and then proceed to make edits to the notebook. Once you are ready to resubmit, follow steps one through three. You can repeat this procedure as many times as necessary.</li>\n",
    "<p>You can also download a copy of this notebook in multiple formats using the <strong>Download as</strong> option in the <strong>File</strong> menu above.</p>"
   ]
  },
  {
   "cell_type": "markdown",
   "metadata": {},
   "source": [
    "<h2>Getting Started</h2>\n",
    "<h3>Python Initialization</h3> \n",
    "\n",
    "Please run the following code to initialize your Python kernel. You should be running a version of Python 3.x. </p>"
   ]
  },
  {
   "cell_type": "code",
   "execution_count": 27,
   "metadata": {
    "nbgrader": {
     "checksum": "30ea34e09ce2fe95d9ffdd861a036f3e",
     "grade": false,
     "grade_id": "cell-6da27a81ca807569",
     "locked": true,
     "schema_version": 1,
     "solution": false
    }
   },
   "outputs": [
    {
     "name": "stdout",
     "output_type": "stream",
     "text": [
      "You're running python 3.6.8\n"
     ]
    }
   ],
   "source": [
    "import numpy as np\n",
    "from helper import *\n",
    "import matplotlib.pyplot as plt\n",
    "import sys\n",
    "\n",
    "print('You\\'re running python %s' % sys.version.split(' ')[0])"
   ]
  },
  {
   "cell_type": "markdown",
   "metadata": {
    "nbgrader": {
     "checksum": "df85ab06febb88b65c6c77c8f2bcef49",
     "grade": false,
     "grade_id": "cell-38378dba31605ea0",
     "locked": true,
     "schema_version": 1,
     "solution": false
    }
   },
   "source": [
    "### Generate and Visualize Data\n",
    "\n",
    "Before we start, let's generate some data and visualize the training set. We are going to use the linearly separable data that we used in our previous project!"
   ]
  },
  {
   "cell_type": "code",
   "execution_count": 28,
   "metadata": {
    "nbgrader": {
     "checksum": "d4249868be9ca4d361db6194c333c81a",
     "grade": false,
     "grade_id": "cell-38e09fdf6da3e10b",
     "locked": true,
     "schema_version": 1,
     "solution": false
    }
   },
   "outputs": [
    {
     "data": {
      "application/javascript": [
       "/* Put everything inside the global mpl namespace */\n",
       "window.mpl = {};\n",
       "\n",
       "\n",
       "mpl.get_websocket_type = function() {\n",
       "    if (typeof(WebSocket) !== 'undefined') {\n",
       "        return WebSocket;\n",
       "    } else if (typeof(MozWebSocket) !== 'undefined') {\n",
       "        return MozWebSocket;\n",
       "    } else {\n",
       "        alert('Your browser does not have WebSocket support.' +\n",
       "              'Please try Chrome, Safari or Firefox ≥ 6. ' +\n",
       "              'Firefox 4 and 5 are also supported but you ' +\n",
       "              'have to enable WebSockets in about:config.');\n",
       "    };\n",
       "}\n",
       "\n",
       "mpl.figure = function(figure_id, websocket, ondownload, parent_element) {\n",
       "    this.id = figure_id;\n",
       "\n",
       "    this.ws = websocket;\n",
       "\n",
       "    this.supports_binary = (this.ws.binaryType != undefined);\n",
       "\n",
       "    if (!this.supports_binary) {\n",
       "        var warnings = document.getElementById(\"mpl-warnings\");\n",
       "        if (warnings) {\n",
       "            warnings.style.display = 'block';\n",
       "            warnings.textContent = (\n",
       "                \"This browser does not support binary websocket messages. \" +\n",
       "                    \"Performance may be slow.\");\n",
       "        }\n",
       "    }\n",
       "\n",
       "    this.imageObj = new Image();\n",
       "\n",
       "    this.context = undefined;\n",
       "    this.message = undefined;\n",
       "    this.canvas = undefined;\n",
       "    this.rubberband_canvas = undefined;\n",
       "    this.rubberband_context = undefined;\n",
       "    this.format_dropdown = undefined;\n",
       "\n",
       "    this.image_mode = 'full';\n",
       "\n",
       "    this.root = $('<div/>');\n",
       "    this._root_extra_style(this.root)\n",
       "    this.root.attr('style', 'display: inline-block');\n",
       "\n",
       "    $(parent_element).append(this.root);\n",
       "\n",
       "    this._init_header(this);\n",
       "    this._init_canvas(this);\n",
       "    this._init_toolbar(this);\n",
       "\n",
       "    var fig = this;\n",
       "\n",
       "    this.waiting = false;\n",
       "\n",
       "    this.ws.onopen =  function () {\n",
       "            fig.send_message(\"supports_binary\", {value: fig.supports_binary});\n",
       "            fig.send_message(\"send_image_mode\", {});\n",
       "            if (mpl.ratio != 1) {\n",
       "                fig.send_message(\"set_dpi_ratio\", {'dpi_ratio': mpl.ratio});\n",
       "            }\n",
       "            fig.send_message(\"refresh\", {});\n",
       "        }\n",
       "\n",
       "    this.imageObj.onload = function() {\n",
       "            if (fig.image_mode == 'full') {\n",
       "                // Full images could contain transparency (where diff images\n",
       "                // almost always do), so we need to clear the canvas so that\n",
       "                // there is no ghosting.\n",
       "                fig.context.clearRect(0, 0, fig.canvas.width, fig.canvas.height);\n",
       "            }\n",
       "            fig.context.drawImage(fig.imageObj, 0, 0);\n",
       "        };\n",
       "\n",
       "    this.imageObj.onunload = function() {\n",
       "        fig.ws.close();\n",
       "    }\n",
       "\n",
       "    this.ws.onmessage = this._make_on_message_function(this);\n",
       "\n",
       "    this.ondownload = ondownload;\n",
       "}\n",
       "\n",
       "mpl.figure.prototype._init_header = function() {\n",
       "    var titlebar = $(\n",
       "        '<div class=\"ui-dialog-titlebar ui-widget-header ui-corner-all ' +\n",
       "        'ui-helper-clearfix\"/>');\n",
       "    var titletext = $(\n",
       "        '<div class=\"ui-dialog-title\" style=\"width: 100%; ' +\n",
       "        'text-align: center; padding: 3px;\"/>');\n",
       "    titlebar.append(titletext)\n",
       "    this.root.append(titlebar);\n",
       "    this.header = titletext[0];\n",
       "}\n",
       "\n",
       "\n",
       "\n",
       "mpl.figure.prototype._canvas_extra_style = function(canvas_div) {\n",
       "\n",
       "}\n",
       "\n",
       "\n",
       "mpl.figure.prototype._root_extra_style = function(canvas_div) {\n",
       "\n",
       "}\n",
       "\n",
       "mpl.figure.prototype._init_canvas = function() {\n",
       "    var fig = this;\n",
       "\n",
       "    var canvas_div = $('<div/>');\n",
       "\n",
       "    canvas_div.attr('style', 'position: relative; clear: both; outline: 0');\n",
       "\n",
       "    function canvas_keyboard_event(event) {\n",
       "        return fig.key_event(event, event['data']);\n",
       "    }\n",
       "\n",
       "    canvas_div.keydown('key_press', canvas_keyboard_event);\n",
       "    canvas_div.keyup('key_release', canvas_keyboard_event);\n",
       "    this.canvas_div = canvas_div\n",
       "    this._canvas_extra_style(canvas_div)\n",
       "    this.root.append(canvas_div);\n",
       "\n",
       "    var canvas = $('<canvas/>');\n",
       "    canvas.addClass('mpl-canvas');\n",
       "    canvas.attr('style', \"left: 0; top: 0; z-index: 0; outline: 0\")\n",
       "\n",
       "    this.canvas = canvas[0];\n",
       "    this.context = canvas[0].getContext(\"2d\");\n",
       "\n",
       "    var backingStore = this.context.backingStorePixelRatio ||\n",
       "\tthis.context.webkitBackingStorePixelRatio ||\n",
       "\tthis.context.mozBackingStorePixelRatio ||\n",
       "\tthis.context.msBackingStorePixelRatio ||\n",
       "\tthis.context.oBackingStorePixelRatio ||\n",
       "\tthis.context.backingStorePixelRatio || 1;\n",
       "\n",
       "    mpl.ratio = (window.devicePixelRatio || 1) / backingStore;\n",
       "\n",
       "    var rubberband = $('<canvas/>');\n",
       "    rubberband.attr('style', \"position: absolute; left: 0; top: 0; z-index: 1;\")\n",
       "\n",
       "    var pass_mouse_events = true;\n",
       "\n",
       "    canvas_div.resizable({\n",
       "        start: function(event, ui) {\n",
       "            pass_mouse_events = false;\n",
       "        },\n",
       "        resize: function(event, ui) {\n",
       "            fig.request_resize(ui.size.width, ui.size.height);\n",
       "        },\n",
       "        stop: function(event, ui) {\n",
       "            pass_mouse_events = true;\n",
       "            fig.request_resize(ui.size.width, ui.size.height);\n",
       "        },\n",
       "    });\n",
       "\n",
       "    function mouse_event_fn(event) {\n",
       "        if (pass_mouse_events)\n",
       "            return fig.mouse_event(event, event['data']);\n",
       "    }\n",
       "\n",
       "    rubberband.mousedown('button_press', mouse_event_fn);\n",
       "    rubberband.mouseup('button_release', mouse_event_fn);\n",
       "    // Throttle sequential mouse events to 1 every 20ms.\n",
       "    rubberband.mousemove('motion_notify', mouse_event_fn);\n",
       "\n",
       "    rubberband.mouseenter('figure_enter', mouse_event_fn);\n",
       "    rubberband.mouseleave('figure_leave', mouse_event_fn);\n",
       "\n",
       "    canvas_div.on(\"wheel\", function (event) {\n",
       "        event = event.originalEvent;\n",
       "        event['data'] = 'scroll'\n",
       "        if (event.deltaY < 0) {\n",
       "            event.step = 1;\n",
       "        } else {\n",
       "            event.step = -1;\n",
       "        }\n",
       "        mouse_event_fn(event);\n",
       "    });\n",
       "\n",
       "    canvas_div.append(canvas);\n",
       "    canvas_div.append(rubberband);\n",
       "\n",
       "    this.rubberband = rubberband;\n",
       "    this.rubberband_canvas = rubberband[0];\n",
       "    this.rubberband_context = rubberband[0].getContext(\"2d\");\n",
       "    this.rubberband_context.strokeStyle = \"#000000\";\n",
       "\n",
       "    this._resize_canvas = function(width, height) {\n",
       "        // Keep the size of the canvas, canvas container, and rubber band\n",
       "        // canvas in synch.\n",
       "        canvas_div.css('width', width)\n",
       "        canvas_div.css('height', height)\n",
       "\n",
       "        canvas.attr('width', width * mpl.ratio);\n",
       "        canvas.attr('height', height * mpl.ratio);\n",
       "        canvas.attr('style', 'width: ' + width + 'px; height: ' + height + 'px;');\n",
       "\n",
       "        rubberband.attr('width', width);\n",
       "        rubberband.attr('height', height);\n",
       "    }\n",
       "\n",
       "    // Set the figure to an initial 600x600px, this will subsequently be updated\n",
       "    // upon first draw.\n",
       "    this._resize_canvas(600, 600);\n",
       "\n",
       "    // Disable right mouse context menu.\n",
       "    $(this.rubberband_canvas).bind(\"contextmenu\",function(e){\n",
       "        return false;\n",
       "    });\n",
       "\n",
       "    function set_focus () {\n",
       "        canvas.focus();\n",
       "        canvas_div.focus();\n",
       "    }\n",
       "\n",
       "    window.setTimeout(set_focus, 100);\n",
       "}\n",
       "\n",
       "mpl.figure.prototype._init_toolbar = function() {\n",
       "    var fig = this;\n",
       "\n",
       "    var nav_element = $('<div/>')\n",
       "    nav_element.attr('style', 'width: 100%');\n",
       "    this.root.append(nav_element);\n",
       "\n",
       "    // Define a callback function for later on.\n",
       "    function toolbar_event(event) {\n",
       "        return fig.toolbar_button_onclick(event['data']);\n",
       "    }\n",
       "    function toolbar_mouse_event(event) {\n",
       "        return fig.toolbar_button_onmouseover(event['data']);\n",
       "    }\n",
       "\n",
       "    for(var toolbar_ind in mpl.toolbar_items) {\n",
       "        var name = mpl.toolbar_items[toolbar_ind][0];\n",
       "        var tooltip = mpl.toolbar_items[toolbar_ind][1];\n",
       "        var image = mpl.toolbar_items[toolbar_ind][2];\n",
       "        var method_name = mpl.toolbar_items[toolbar_ind][3];\n",
       "\n",
       "        if (!name) {\n",
       "            // put a spacer in here.\n",
       "            continue;\n",
       "        }\n",
       "        var button = $('<button/>');\n",
       "        button.addClass('ui-button ui-widget ui-state-default ui-corner-all ' +\n",
       "                        'ui-button-icon-only');\n",
       "        button.attr('role', 'button');\n",
       "        button.attr('aria-disabled', 'false');\n",
       "        button.click(method_name, toolbar_event);\n",
       "        button.mouseover(tooltip, toolbar_mouse_event);\n",
       "\n",
       "        var icon_img = $('<span/>');\n",
       "        icon_img.addClass('ui-button-icon-primary ui-icon');\n",
       "        icon_img.addClass(image);\n",
       "        icon_img.addClass('ui-corner-all');\n",
       "\n",
       "        var tooltip_span = $('<span/>');\n",
       "        tooltip_span.addClass('ui-button-text');\n",
       "        tooltip_span.html(tooltip);\n",
       "\n",
       "        button.append(icon_img);\n",
       "        button.append(tooltip_span);\n",
       "\n",
       "        nav_element.append(button);\n",
       "    }\n",
       "\n",
       "    var fmt_picker_span = $('<span/>');\n",
       "\n",
       "    var fmt_picker = $('<select/>');\n",
       "    fmt_picker.addClass('mpl-toolbar-option ui-widget ui-widget-content');\n",
       "    fmt_picker_span.append(fmt_picker);\n",
       "    nav_element.append(fmt_picker_span);\n",
       "    this.format_dropdown = fmt_picker[0];\n",
       "\n",
       "    for (var ind in mpl.extensions) {\n",
       "        var fmt = mpl.extensions[ind];\n",
       "        var option = $(\n",
       "            '<option/>', {selected: fmt === mpl.default_extension}).html(fmt);\n",
       "        fmt_picker.append(option)\n",
       "    }\n",
       "\n",
       "    // Add hover states to the ui-buttons\n",
       "    $( \".ui-button\" ).hover(\n",
       "        function() { $(this).addClass(\"ui-state-hover\");},\n",
       "        function() { $(this).removeClass(\"ui-state-hover\");}\n",
       "    );\n",
       "\n",
       "    var status_bar = $('<span class=\"mpl-message\"/>');\n",
       "    nav_element.append(status_bar);\n",
       "    this.message = status_bar[0];\n",
       "}\n",
       "\n",
       "mpl.figure.prototype.request_resize = function(x_pixels, y_pixels) {\n",
       "    // Request matplotlib to resize the figure. Matplotlib will then trigger a resize in the client,\n",
       "    // which will in turn request a refresh of the image.\n",
       "    this.send_message('resize', {'width': x_pixels, 'height': y_pixels});\n",
       "}\n",
       "\n",
       "mpl.figure.prototype.send_message = function(type, properties) {\n",
       "    properties['type'] = type;\n",
       "    properties['figure_id'] = this.id;\n",
       "    this.ws.send(JSON.stringify(properties));\n",
       "}\n",
       "\n",
       "mpl.figure.prototype.send_draw_message = function() {\n",
       "    if (!this.waiting) {\n",
       "        this.waiting = true;\n",
       "        this.ws.send(JSON.stringify({type: \"draw\", figure_id: this.id}));\n",
       "    }\n",
       "}\n",
       "\n",
       "\n",
       "mpl.figure.prototype.handle_save = function(fig, msg) {\n",
       "    var format_dropdown = fig.format_dropdown;\n",
       "    var format = format_dropdown.options[format_dropdown.selectedIndex].value;\n",
       "    fig.ondownload(fig, format);\n",
       "}\n",
       "\n",
       "\n",
       "mpl.figure.prototype.handle_resize = function(fig, msg) {\n",
       "    var size = msg['size'];\n",
       "    if (size[0] != fig.canvas.width || size[1] != fig.canvas.height) {\n",
       "        fig._resize_canvas(size[0], size[1]);\n",
       "        fig.send_message(\"refresh\", {});\n",
       "    };\n",
       "}\n",
       "\n",
       "mpl.figure.prototype.handle_rubberband = function(fig, msg) {\n",
       "    var x0 = msg['x0'] / mpl.ratio;\n",
       "    var y0 = (fig.canvas.height - msg['y0']) / mpl.ratio;\n",
       "    var x1 = msg['x1'] / mpl.ratio;\n",
       "    var y1 = (fig.canvas.height - msg['y1']) / mpl.ratio;\n",
       "    x0 = Math.floor(x0) + 0.5;\n",
       "    y0 = Math.floor(y0) + 0.5;\n",
       "    x1 = Math.floor(x1) + 0.5;\n",
       "    y1 = Math.floor(y1) + 0.5;\n",
       "    var min_x = Math.min(x0, x1);\n",
       "    var min_y = Math.min(y0, y1);\n",
       "    var width = Math.abs(x1 - x0);\n",
       "    var height = Math.abs(y1 - y0);\n",
       "\n",
       "    fig.rubberband_context.clearRect(\n",
       "        0, 0, fig.canvas.width, fig.canvas.height);\n",
       "\n",
       "    fig.rubberband_context.strokeRect(min_x, min_y, width, height);\n",
       "}\n",
       "\n",
       "mpl.figure.prototype.handle_figure_label = function(fig, msg) {\n",
       "    // Updates the figure title.\n",
       "    fig.header.textContent = msg['label'];\n",
       "}\n",
       "\n",
       "mpl.figure.prototype.handle_cursor = function(fig, msg) {\n",
       "    var cursor = msg['cursor'];\n",
       "    switch(cursor)\n",
       "    {\n",
       "    case 0:\n",
       "        cursor = 'pointer';\n",
       "        break;\n",
       "    case 1:\n",
       "        cursor = 'default';\n",
       "        break;\n",
       "    case 2:\n",
       "        cursor = 'crosshair';\n",
       "        break;\n",
       "    case 3:\n",
       "        cursor = 'move';\n",
       "        break;\n",
       "    }\n",
       "    fig.rubberband_canvas.style.cursor = cursor;\n",
       "}\n",
       "\n",
       "mpl.figure.prototype.handle_message = function(fig, msg) {\n",
       "    fig.message.textContent = msg['message'];\n",
       "}\n",
       "\n",
       "mpl.figure.prototype.handle_draw = function(fig, msg) {\n",
       "    // Request the server to send over a new figure.\n",
       "    fig.send_draw_message();\n",
       "}\n",
       "\n",
       "mpl.figure.prototype.handle_image_mode = function(fig, msg) {\n",
       "    fig.image_mode = msg['mode'];\n",
       "}\n",
       "\n",
       "mpl.figure.prototype.updated_canvas_event = function() {\n",
       "    // Called whenever the canvas gets updated.\n",
       "    this.send_message(\"ack\", {});\n",
       "}\n",
       "\n",
       "// A function to construct a web socket function for onmessage handling.\n",
       "// Called in the figure constructor.\n",
       "mpl.figure.prototype._make_on_message_function = function(fig) {\n",
       "    return function socket_on_message(evt) {\n",
       "        if (evt.data instanceof Blob) {\n",
       "            /* FIXME: We get \"Resource interpreted as Image but\n",
       "             * transferred with MIME type text/plain:\" errors on\n",
       "             * Chrome.  But how to set the MIME type?  It doesn't seem\n",
       "             * to be part of the websocket stream */\n",
       "            evt.data.type = \"image/png\";\n",
       "\n",
       "            /* Free the memory for the previous frames */\n",
       "            if (fig.imageObj.src) {\n",
       "                (window.URL || window.webkitURL).revokeObjectURL(\n",
       "                    fig.imageObj.src);\n",
       "            }\n",
       "\n",
       "            fig.imageObj.src = (window.URL || window.webkitURL).createObjectURL(\n",
       "                evt.data);\n",
       "            fig.updated_canvas_event();\n",
       "            fig.waiting = false;\n",
       "            return;\n",
       "        }\n",
       "        else if (typeof evt.data === 'string' && evt.data.slice(0, 21) == \"data:image/png;base64\") {\n",
       "            fig.imageObj.src = evt.data;\n",
       "            fig.updated_canvas_event();\n",
       "            fig.waiting = false;\n",
       "            return;\n",
       "        }\n",
       "\n",
       "        var msg = JSON.parse(evt.data);\n",
       "        var msg_type = msg['type'];\n",
       "\n",
       "        // Call the  \"handle_{type}\" callback, which takes\n",
       "        // the figure and JSON message as its only arguments.\n",
       "        try {\n",
       "            var callback = fig[\"handle_\" + msg_type];\n",
       "        } catch (e) {\n",
       "            console.log(\"No handler for the '\" + msg_type + \"' message type: \", msg);\n",
       "            return;\n",
       "        }\n",
       "\n",
       "        if (callback) {\n",
       "            try {\n",
       "                // console.log(\"Handling '\" + msg_type + \"' message: \", msg);\n",
       "                callback(fig, msg);\n",
       "            } catch (e) {\n",
       "                console.log(\"Exception inside the 'handler_\" + msg_type + \"' callback:\", e, e.stack, msg);\n",
       "            }\n",
       "        }\n",
       "    };\n",
       "}\n",
       "\n",
       "// from http://stackoverflow.com/questions/1114465/getting-mouse-location-in-canvas\n",
       "mpl.findpos = function(e) {\n",
       "    //this section is from http://www.quirksmode.org/js/events_properties.html\n",
       "    var targ;\n",
       "    if (!e)\n",
       "        e = window.event;\n",
       "    if (e.target)\n",
       "        targ = e.target;\n",
       "    else if (e.srcElement)\n",
       "        targ = e.srcElement;\n",
       "    if (targ.nodeType == 3) // defeat Safari bug\n",
       "        targ = targ.parentNode;\n",
       "\n",
       "    // jQuery normalizes the pageX and pageY\n",
       "    // pageX,Y are the mouse positions relative to the document\n",
       "    // offset() returns the position of the element relative to the document\n",
       "    var x = e.pageX - $(targ).offset().left;\n",
       "    var y = e.pageY - $(targ).offset().top;\n",
       "\n",
       "    return {\"x\": x, \"y\": y};\n",
       "};\n",
       "\n",
       "/*\n",
       " * return a copy of an object with only non-object keys\n",
       " * we need this to avoid circular references\n",
       " * http://stackoverflow.com/a/24161582/3208463\n",
       " */\n",
       "function simpleKeys (original) {\n",
       "  return Object.keys(original).reduce(function (obj, key) {\n",
       "    if (typeof original[key] !== 'object')\n",
       "        obj[key] = original[key]\n",
       "    return obj;\n",
       "  }, {});\n",
       "}\n",
       "\n",
       "mpl.figure.prototype.mouse_event = function(event, name) {\n",
       "    var canvas_pos = mpl.findpos(event)\n",
       "\n",
       "    if (name === 'button_press')\n",
       "    {\n",
       "        this.canvas.focus();\n",
       "        this.canvas_div.focus();\n",
       "    }\n",
       "\n",
       "    var x = canvas_pos.x * mpl.ratio;\n",
       "    var y = canvas_pos.y * mpl.ratio;\n",
       "\n",
       "    this.send_message(name, {x: x, y: y, button: event.button,\n",
       "                             step: event.step,\n",
       "                             guiEvent: simpleKeys(event)});\n",
       "\n",
       "    /* This prevents the web browser from automatically changing to\n",
       "     * the text insertion cursor when the button is pressed.  We want\n",
       "     * to control all of the cursor setting manually through the\n",
       "     * 'cursor' event from matplotlib */\n",
       "    event.preventDefault();\n",
       "    return false;\n",
       "}\n",
       "\n",
       "mpl.figure.prototype._key_event_extra = function(event, name) {\n",
       "    // Handle any extra behaviour associated with a key event\n",
       "}\n",
       "\n",
       "mpl.figure.prototype.key_event = function(event, name) {\n",
       "\n",
       "    // Prevent repeat events\n",
       "    if (name == 'key_press')\n",
       "    {\n",
       "        if (event.which === this._key)\n",
       "            return;\n",
       "        else\n",
       "            this._key = event.which;\n",
       "    }\n",
       "    if (name == 'key_release')\n",
       "        this._key = null;\n",
       "\n",
       "    var value = '';\n",
       "    if (event.ctrlKey && event.which != 17)\n",
       "        value += \"ctrl+\";\n",
       "    if (event.altKey && event.which != 18)\n",
       "        value += \"alt+\";\n",
       "    if (event.shiftKey && event.which != 16)\n",
       "        value += \"shift+\";\n",
       "\n",
       "    value += 'k';\n",
       "    value += event.which.toString();\n",
       "\n",
       "    this._key_event_extra(event, name);\n",
       "\n",
       "    this.send_message(name, {key: value,\n",
       "                             guiEvent: simpleKeys(event)});\n",
       "    return false;\n",
       "}\n",
       "\n",
       "mpl.figure.prototype.toolbar_button_onclick = function(name) {\n",
       "    if (name == 'download') {\n",
       "        this.handle_save(this, null);\n",
       "    } else {\n",
       "        this.send_message(\"toolbar_button\", {name: name});\n",
       "    }\n",
       "};\n",
       "\n",
       "mpl.figure.prototype.toolbar_button_onmouseover = function(tooltip) {\n",
       "    this.message.textContent = tooltip;\n",
       "};\n",
       "mpl.toolbar_items = [[\"Home\", \"Reset original view\", \"fa fa-home icon-home\", \"home\"], [\"Back\", \"Back to previous view\", \"fa fa-arrow-left icon-arrow-left\", \"back\"], [\"Forward\", \"Forward to next view\", \"fa fa-arrow-right icon-arrow-right\", \"forward\"], [\"\", \"\", \"\", \"\"], [\"Pan\", \"Pan axes with left mouse, zoom with right\", \"fa fa-arrows icon-move\", \"pan\"], [\"Zoom\", \"Zoom to rectangle\", \"fa fa-square-o icon-check-empty\", \"zoom\"], [\"\", \"\", \"\", \"\"], [\"Download\", \"Download plot\", \"fa fa-floppy-o icon-save\", \"download\"]];\n",
       "\n",
       "mpl.extensions = [\"eps\", \"jpeg\", \"pdf\", \"png\", \"ps\", \"raw\", \"svg\", \"tif\"];\n",
       "\n",
       "mpl.default_extension = \"png\";var comm_websocket_adapter = function(comm) {\n",
       "    // Create a \"websocket\"-like object which calls the given IPython comm\n",
       "    // object with the appropriate methods. Currently this is a non binary\n",
       "    // socket, so there is still some room for performance tuning.\n",
       "    var ws = {};\n",
       "\n",
       "    ws.close = function() {\n",
       "        comm.close()\n",
       "    };\n",
       "    ws.send = function(m) {\n",
       "        //console.log('sending', m);\n",
       "        comm.send(m);\n",
       "    };\n",
       "    // Register the callback with on_msg.\n",
       "    comm.on_msg(function(msg) {\n",
       "        //console.log('receiving', msg['content']['data'], msg);\n",
       "        // Pass the mpl event to the overridden (by mpl) onmessage function.\n",
       "        ws.onmessage(msg['content']['data'])\n",
       "    });\n",
       "    return ws;\n",
       "}\n",
       "\n",
       "mpl.mpl_figure_comm = function(comm, msg) {\n",
       "    // This is the function which gets called when the mpl process\n",
       "    // starts-up an IPython Comm through the \"matplotlib\" channel.\n",
       "\n",
       "    var id = msg.content.data.id;\n",
       "    // Get hold of the div created by the display call when the Comm\n",
       "    // socket was opened in Python.\n",
       "    var element = $(\"#\" + id);\n",
       "    var ws_proxy = comm_websocket_adapter(comm)\n",
       "\n",
       "    function ondownload(figure, format) {\n",
       "        window.open(figure.imageObj.src);\n",
       "    }\n",
       "\n",
       "    var fig = new mpl.figure(id, ws_proxy,\n",
       "                           ondownload,\n",
       "                           element.get(0));\n",
       "\n",
       "    // Call onopen now - mpl needs it, as it is assuming we've passed it a real\n",
       "    // web socket which is closed, not our websocket->open comm proxy.\n",
       "    ws_proxy.onopen();\n",
       "\n",
       "    fig.parent_element = element.get(0);\n",
       "    fig.cell_info = mpl.find_output_cell(\"<div id='\" + id + \"'></div>\");\n",
       "    if (!fig.cell_info) {\n",
       "        console.error(\"Failed to find cell for figure\", id, fig);\n",
       "        return;\n",
       "    }\n",
       "\n",
       "    var output_index = fig.cell_info[2]\n",
       "    var cell = fig.cell_info[0];\n",
       "\n",
       "};\n",
       "\n",
       "mpl.figure.prototype.handle_close = function(fig, msg) {\n",
       "    var width = fig.canvas.width/mpl.ratio\n",
       "    fig.root.unbind('remove')\n",
       "\n",
       "    // Update the output cell to use the data from the current canvas.\n",
       "    fig.push_to_output();\n",
       "    var dataURL = fig.canvas.toDataURL();\n",
       "    // Re-enable the keyboard manager in IPython - without this line, in FF,\n",
       "    // the notebook keyboard shortcuts fail.\n",
       "    IPython.keyboard_manager.enable()\n",
       "    $(fig.parent_element).html('<img src=\"' + dataURL + '\" width=\"' + width + '\">');\n",
       "    fig.close_ws(fig, msg);\n",
       "}\n",
       "\n",
       "mpl.figure.prototype.close_ws = function(fig, msg){\n",
       "    fig.send_message('closing', msg);\n",
       "    // fig.ws.close()\n",
       "}\n",
       "\n",
       "mpl.figure.prototype.push_to_output = function(remove_interactive) {\n",
       "    // Turn the data on the canvas into data in the output cell.\n",
       "    var width = this.canvas.width/mpl.ratio\n",
       "    var dataURL = this.canvas.toDataURL();\n",
       "    this.cell_info[1]['text/html'] = '<img src=\"' + dataURL + '\" width=\"' + width + '\">';\n",
       "}\n",
       "\n",
       "mpl.figure.prototype.updated_canvas_event = function() {\n",
       "    // Tell IPython that the notebook contents must change.\n",
       "    IPython.notebook.set_dirty(true);\n",
       "    this.send_message(\"ack\", {});\n",
       "    var fig = this;\n",
       "    // Wait a second, then push the new image to the DOM so\n",
       "    // that it is saved nicely (might be nice to debounce this).\n",
       "    setTimeout(function () { fig.push_to_output() }, 1000);\n",
       "}\n",
       "\n",
       "mpl.figure.prototype._init_toolbar = function() {\n",
       "    var fig = this;\n",
       "\n",
       "    var nav_element = $('<div/>')\n",
       "    nav_element.attr('style', 'width: 100%');\n",
       "    this.root.append(nav_element);\n",
       "\n",
       "    // Define a callback function for later on.\n",
       "    function toolbar_event(event) {\n",
       "        return fig.toolbar_button_onclick(event['data']);\n",
       "    }\n",
       "    function toolbar_mouse_event(event) {\n",
       "        return fig.toolbar_button_onmouseover(event['data']);\n",
       "    }\n",
       "\n",
       "    for(var toolbar_ind in mpl.toolbar_items){\n",
       "        var name = mpl.toolbar_items[toolbar_ind][0];\n",
       "        var tooltip = mpl.toolbar_items[toolbar_ind][1];\n",
       "        var image = mpl.toolbar_items[toolbar_ind][2];\n",
       "        var method_name = mpl.toolbar_items[toolbar_ind][3];\n",
       "\n",
       "        if (!name) { continue; };\n",
       "\n",
       "        var button = $('<button class=\"btn btn-default\" href=\"#\" title=\"' + name + '\"><i class=\"fa ' + image + ' fa-lg\"></i></button>');\n",
       "        button.click(method_name, toolbar_event);\n",
       "        button.mouseover(tooltip, toolbar_mouse_event);\n",
       "        nav_element.append(button);\n",
       "    }\n",
       "\n",
       "    // Add the status bar.\n",
       "    var status_bar = $('<span class=\"mpl-message\" style=\"text-align:right; float: right;\"/>');\n",
       "    nav_element.append(status_bar);\n",
       "    this.message = status_bar[0];\n",
       "\n",
       "    // Add the close button to the window.\n",
       "    var buttongrp = $('<div class=\"btn-group inline pull-right\"></div>');\n",
       "    var button = $('<button class=\"btn btn-mini btn-primary\" href=\"#\" title=\"Stop Interaction\"><i class=\"fa fa-power-off icon-remove icon-large\"></i></button>');\n",
       "    button.click(function (evt) { fig.handle_close(fig, {}); } );\n",
       "    button.mouseover('Stop Interaction', toolbar_mouse_event);\n",
       "    buttongrp.append(button);\n",
       "    var titlebar = this.root.find($('.ui-dialog-titlebar'));\n",
       "    titlebar.prepend(buttongrp);\n",
       "}\n",
       "\n",
       "mpl.figure.prototype._root_extra_style = function(el){\n",
       "    var fig = this\n",
       "    el.on(\"remove\", function(){\n",
       "\tfig.close_ws(fig, {});\n",
       "    });\n",
       "}\n",
       "\n",
       "mpl.figure.prototype._canvas_extra_style = function(el){\n",
       "    // this is important to make the div 'focusable\n",
       "    el.attr('tabindex', 0)\n",
       "    // reach out to IPython and tell the keyboard manager to turn it's self\n",
       "    // off when our div gets focus\n",
       "\n",
       "    // location in version 3\n",
       "    if (IPython.notebook.keyboard_manager) {\n",
       "        IPython.notebook.keyboard_manager.register_events(el);\n",
       "    }\n",
       "    else {\n",
       "        // location in version 2\n",
       "        IPython.keyboard_manager.register_events(el);\n",
       "    }\n",
       "\n",
       "}\n",
       "\n",
       "mpl.figure.prototype._key_event_extra = function(event, name) {\n",
       "    var manager = IPython.notebook.keyboard_manager;\n",
       "    if (!manager)\n",
       "        manager = IPython.keyboard_manager;\n",
       "\n",
       "    // Check for shift+enter\n",
       "    if (event.shiftKey && event.which == 13) {\n",
       "        this.canvas_div.blur();\n",
       "        event.shiftKey = false;\n",
       "        // Send a \"J\" for go to next cell\n",
       "        event.which = 74;\n",
       "        event.keyCode = 74;\n",
       "        manager.command_mode();\n",
       "        manager.handle_keydown(event);\n",
       "    }\n",
       "}\n",
       "\n",
       "mpl.figure.prototype.handle_save = function(fig, msg) {\n",
       "    fig.ondownload(fig, null);\n",
       "}\n",
       "\n",
       "\n",
       "mpl.find_output_cell = function(html_output) {\n",
       "    // Return the cell and output element which can be found *uniquely* in the notebook.\n",
       "    // Note - this is a bit hacky, but it is done because the \"notebook_saving.Notebook\"\n",
       "    // IPython event is triggered only after the cells have been serialised, which for\n",
       "    // our purposes (turning an active figure into a static one), is too late.\n",
       "    var cells = IPython.notebook.get_cells();\n",
       "    var ncells = cells.length;\n",
       "    for (var i=0; i<ncells; i++) {\n",
       "        var cell = cells[i];\n",
       "        if (cell.cell_type === 'code'){\n",
       "            for (var j=0; j<cell.output_area.outputs.length; j++) {\n",
       "                var data = cell.output_area.outputs[j];\n",
       "                if (data.data) {\n",
       "                    // IPython >= 3 moved mimebundle to data attribute of output\n",
       "                    data = data.data;\n",
       "                }\n",
       "                if (data['text/html'] == html_output) {\n",
       "                    return [cell, data, j];\n",
       "                }\n",
       "            }\n",
       "        }\n",
       "    }\n",
       "}\n",
       "\n",
       "// Register the function which deals with the matplotlib target/channel.\n",
       "// The kernel may be null if the page has been refreshed.\n",
       "if (IPython.notebook.kernel != null) {\n",
       "    IPython.notebook.kernel.comm_manager.register_target('matplotlib', mpl.mpl_figure_comm);\n",
       "}\n"
      ],
      "text/plain": [
       "<IPython.core.display.Javascript object>"
      ]
     },
     "metadata": {},
     "output_type": "display_data"
    },
    {
     "data": {
      "text/html": [
       "<img src=\"data:image/png;base64,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\" width=\"640\">"
      ],
      "text/plain": [
       "<IPython.core.display.HTML object>"
      ]
     },
     "metadata": {},
     "output_type": "display_data"
    }
   ],
   "source": [
    "%matplotlib notebook\n",
    "xTr,yTr = generate_data()\n",
    "visualize_2D(xTr, yTr)"
   ]
  },
  {
   "cell_type": "markdown",
   "metadata": {
    "nbgrader": {
     "checksum": "72f2f5c739f5c5161065210f7af53bd0",
     "grade": false,
     "grade_id": "cell-4a8d3426274ccdbd",
     "locked": true,
     "schema_version": 1,
     "solution": false
    }
   },
   "source": [
    "## Kernel SVM\n",
    "\n",
    "In this assignment, you need to implement three functions <code>computeK</code> that computes the kernel function efficiently, <code>loss</code> that calculates the unconstrained kernelized hinge loss and <code>grad</code> that calculates the gradient of the loss with respect to $\\mathbf{\\beta}, b$. "
   ]
  },
  {
   "cell_type": "markdown",
   "metadata": {
    "nbgrader": {
     "checksum": "4812bec386118a86c8fb94d633487608",
     "grade": false,
     "grade_id": "cell-c36368930d78904c",
     "locked": true,
     "schema_version": 1,
     "solution": false
    }
   },
   "source": [
    "### Part One: Compute K [Graded]\n",
    "\n",
    "In <code>computeK</code>, you are going to calcuate the values of different kernel functions given inputs `X` and `Z`. You will return $K = K(X,Z)$. $K_{ij} = k(\\mathbf x_i, \\mathbf z_j)$ where $k( \\mathbf x_i, \\mathbf z_j) = \\phi(\\mathbf x_i)^T\\phi(\\mathbf z_j)$. This function takes in the parameter `kerneltype` to decide which of the three different kernel functions to evaluate. To review, recall the following types of kernels:\n",
    "\n",
    "- Linear: $K(X,Z) = X^TZ$\n",
    "- Polynomial: $K(X, Z)=\\left(X^{T} Z+1\\right)^{d}$ where `kpar` = $d$\n",
    "- RBF: $K(X,Z) = \\exp\\{-\\frac{||X-Z||^2}{\\sigma^2}\\}$ where `kpar` = $\\frac{1}{\\sigma^2}$\n",
    "\n",
    "<p><strong>Note:</strong> When calculating the RBF kernel, you can use the <code>l2distance(X, Z)</code> functions to calculate the pairwise l2 distance efficiently.</p>"
   ]
  },
  {
   "cell_type": "code",
   "execution_count": 29,
   "metadata": {
    "nbgrader": {
     "checksum": "b07d246d8f0a5c779eabc4c0bd0052af",
     "grade": false,
     "grade_id": "cell-computeK",
     "locked": false,
     "schema_version": 1,
     "solution": true
    }
   },
   "outputs": [],
   "source": [
    "def computeK(kerneltype, X, Z, kpar=1):\n",
    "    \"\"\"\n",
    "    function K = computeK(kernel_type, X, Z)\n",
    "    computes a matrix K such that Kij=k(x,z);\n",
    "    for three different function linear, rbf or polynomial.\n",
    "    \n",
    "    Input:\n",
    "    kerneltype: either 'linear','polynomial','rbf'\n",
    "    X: n input vectors of dimension d (nxd);\n",
    "    Z: m input vectors of dimension d (mxd);\n",
    "    kpar: kernel parameter (inverse kernel width gamma in case of RBF, degree in case of polynomial)\n",
    "    \n",
    "    OUTPUT:\n",
    "    K : nxm kernel matrix\n",
    "    \"\"\"\n",
    "    assert kerneltype in [\"linear\",\"polynomial\",\"rbf\"], \"Kernel type %s not known.\" % kerneltype\n",
    "    assert X.shape[1] == Z.shape[1], \"Input dimensions do not match\"\n",
    "    \n",
    "    K = None\n",
    "    \n",
    "    # YOUR CODE HERE\n",
    "    \n",
    "    if kerneltype == \"linear\":\n",
    "        K = np.dot(X,Z.T)\n",
    "    elif kerneltype == \"polynomial\":\n",
    "        K = (np.dot(X,Z.T)+1) ** kpar\n",
    "    elif kerneltype == \"rbf\":\n",
    "        K = np.exp(-kpar*l2distance(X,Z)**2)\n",
    "\n",
    "    return K"
   ]
  },
  {
   "cell_type": "code",
   "execution_count": 30,
   "metadata": {
    "nbgrader": {
     "checksum": "215dbae26b9ab343625160fa984b718d",
     "grade": false,
     "grade_id": "cell-computeK-selftest",
     "locked": true,
     "schema_version": 1,
     "solution": false
    }
   },
   "outputs": [
    {
     "name": "stdout",
     "output_type": "stream",
     "text": [
      "Running Test: computeK_test1 ... ✔ Passed!\n",
      "Running Test: computeK_test2 ... ✔ Passed!\n",
      "Running Test: computeK_test3 ... ✔ Passed!\n",
      "Running Test: computeK_test4 ... ✔ Passed!\n",
      "Running Test: computeK_test5 ... ✔ Passed!\n",
      "Running Test: computeK_test6 ... ✔ Passed!\n"
     ]
    }
   ],
   "source": [
    "# These tests test whether your computeK() is implemented correctly\n",
    "\n",
    "xTr_test, yTr_test = generate_data(100)\n",
    "xTr_test2, yTr_test2 = generate_data(50)\n",
    "n, d = xTr_test.shape\n",
    "\n",
    "# Checks whether computeK compute the kernel matrix with the right dimension\n",
    "def computeK_test1():\n",
    "    s1 = (computeK('rbf', xTr_test, xTr_test2, kpar=1).shape == (100, 50))\n",
    "    s2 = (computeK('polynomial', xTr_test, xTr_test2, kpar=1).shape == (100, 50))\n",
    "    s3 = (computeK('linear', xTr_test, xTr_test2, kpar=1).shape == (100, 50))\n",
    "    return (s1 and s2 and s3)\n",
    "\n",
    "# Checks whether the kernel matrix is symmetric\n",
    "def computeK_test2():\n",
    "    k_rbf = computeK('rbf', xTr_test, xTr_test, kpar=1)\n",
    "    s1 = np.allclose(k_rbf, k_rbf.T)\n",
    "    k_poly = computeK('polynomial', xTr_test, xTr_test, kpar=1)\n",
    "    s2 = np.allclose(k_poly, k_poly.T)\n",
    "    k_linear = computeK('linear', xTr_test, xTr_test, kpar=1)\n",
    "    s3 = np.allclose(k_linear, k_linear.T)\n",
    "    return (s1 and s2 and s3)\n",
    "\n",
    "# Checks whether the kernel matrix is positive semi-definite\n",
    "def computeK_test3():\n",
    "    k_rbf = computeK('rbf', xTr_test2, xTr_test2, kpar=1)\n",
    "    eigen_rbf = np.linalg.eigvals(k_rbf)\n",
    "    eigen_rbf[np.isclose(eigen_rbf, 0)] = 0\n",
    "    s1 = np.all(eigen_rbf >= 0)\n",
    "    k_poly = computeK('polynomial', xTr_test2, xTr_test2, kpar=1)\n",
    "    eigen_poly = np.linalg.eigvals(k_poly)\n",
    "    eigen_poly[np.isclose(eigen_poly, 0)] = 0\n",
    "    s2 = np.all(eigen_poly >= 0)\n",
    "    k_linear = computeK('linear', xTr_test2, xTr_test2, kpar=1)\n",
    "    eigen_linear = np.linalg.eigvals(k_linear)\n",
    "    eigen_linear[np.isclose(eigen_linear, 0)] = 0\n",
    "    s3 = np.all(eigen_linear >= 0)\n",
    "    return (s1 and s2 and s3)\n",
    "\n",
    "# Checks whether computeK compute the right kernel matrix with rbf kernel\n",
    "def computeK_test4():\n",
    "    k = computeK('rbf', xTr_test, xTr_test2, kpar=1)\n",
    "    k2 = computeK_grader('rbf', xTr_test, xTr_test2, kpar=1)\n",
    "    \n",
    "    return np.linalg.norm(k - k2) < 1e-5\n",
    "\n",
    "# Checks whether computeK compute the right kernel matrix with polynomial kernel\n",
    "def computeK_test5():\n",
    "    k = computeK('polynomial', xTr_test, xTr_test2, kpar=1)\n",
    "    k2 = computeK_grader('polynomial', xTr_test, xTr_test2, kpar=1)\n",
    "    \n",
    "    return np.linalg.norm(k - k2) < 1e-5\n",
    "\n",
    "# Checks whether computeK compute the right kernel matrix with linear kernel\n",
    "def computeK_test6():\n",
    "    k = computeK('linear', xTr_test, xTr_test2, kpar=1)\n",
    "    k2 = computeK_grader('linear', xTr_test, xTr_test2, kpar=1)\n",
    "    \n",
    "    return np.linalg.norm(k - k2) < 1e-5\n",
    "\n",
    "\n",
    "runtest(computeK_test1, 'computeK_test1')\n",
    "runtest(computeK_test2, 'computeK_test2')\n",
    "runtest(computeK_test3, 'computeK_test3')\n",
    "runtest(computeK_test4, 'computeK_test4')\n",
    "runtest(computeK_test5, 'computeK_test5')\n",
    "runtest(computeK_test6, 'computeK_test6')"
   ]
  },
  {
   "cell_type": "code",
   "execution_count": 31,
   "metadata": {
    "nbgrader": {
     "checksum": "bd2c8ccbbecc00e7d6aad6329fd4edf3",
     "grade": true,
     "grade_id": "cell-computeK-test1",
     "locked": true,
     "points": 1,
     "schema_version": 1,
     "solution": false
    }
   },
   "outputs": [],
   "source": [
    "# Autograder test cell - worth 1 point\n",
    "# runs computeK_test1"
   ]
  },
  {
   "cell_type": "code",
   "execution_count": 32,
   "metadata": {
    "nbgrader": {
     "checksum": "90c7eea29e746c03b7c404d207953eb7",
     "grade": true,
     "grade_id": "cell-computeK-test2",
     "locked": true,
     "points": 1,
     "schema_version": 1,
     "solution": false
    }
   },
   "outputs": [],
   "source": [
    "# Autograder test cell - worth 1 point\n",
    "# runs computeK_test2"
   ]
  },
  {
   "cell_type": "code",
   "execution_count": 33,
   "metadata": {
    "nbgrader": {
     "checksum": "44c7806efdc12fc50ccc08a4a46e8a9d",
     "grade": true,
     "grade_id": "cell-computeK-test3",
     "locked": true,
     "points": 1,
     "schema_version": 1,
     "solution": false
    }
   },
   "outputs": [],
   "source": [
    "# Autograder test cell - worth 1 point\n",
    "# runs computeK_test3"
   ]
  },
  {
   "cell_type": "code",
   "execution_count": 34,
   "metadata": {
    "nbgrader": {
     "checksum": "f6eb66f21d145c4a9d9687ee4ef19569",
     "grade": true,
     "grade_id": "cell-computeK-test4",
     "locked": true,
     "points": 1,
     "schema_version": 1,
     "solution": false
    }
   },
   "outputs": [],
   "source": [
    "# Autograder test cell - worth 1 point\n",
    "# runs computeK_test4"
   ]
  },
  {
   "cell_type": "code",
   "execution_count": 35,
   "metadata": {
    "nbgrader": {
     "checksum": "ae6de714e9658eccb72624bc3d9fb153",
     "grade": true,
     "grade_id": "cell-computeK-test5",
     "locked": true,
     "points": 1,
     "schema_version": 1,
     "solution": false
    }
   },
   "outputs": [],
   "source": [
    "# Autograder test cell - worth 1 point\n",
    "# runs computeK_test5"
   ]
  },
  {
   "cell_type": "code",
   "execution_count": 36,
   "metadata": {
    "nbgrader": {
     "checksum": "9d99ad37ee48a381df2ea875e48ebf44",
     "grade": true,
     "grade_id": "cell-computeK-test6",
     "locked": true,
     "points": 1,
     "schema_version": 1,
     "solution": false
    }
   },
   "outputs": [],
   "source": [
    "# Autograder test cell - worth 1 point\n",
    "# runs computeK_test5"
   ]
  },
  {
   "cell_type": "markdown",
   "metadata": {
    "nbgrader": {
     "checksum": "80c421a14bca6d2e4d8f0fc9aaf200b6",
     "grade": false,
     "grade_id": "cell-7a01c840a42c22ae",
     "locked": true,
     "schema_version": 1,
     "solution": false
    }
   },
   "source": [
    "### Part Two: Compute Loss [Graded]\n",
    "\n",
    "Now, you are going to implement the function <code>loss</code>. Note that the function signature of this function is slightly different from the previous assignment. Previously, we can pass in $\\mathbf{w}$ to calculate the loss values. However, in the kernelized version of the loss, $\\mathbf{w}$ is calculated as a linear combination of the training examples, so we need to pass the training set to the function. \n",
    "\n",
    "The following is an explanation of the theory that leads us to the loss expression."
   ]
  },
  {
   "cell_type": "markdown",
   "metadata": {
    "nbgrader": {
     "checksum": "4abe82c248947da080237d583b1ebfb1",
     "grade": false,
     "grade_id": "cell-5b36c08fbebe600d",
     "locked": true,
     "schema_version": 1,
     "solution": false
    }
   },
   "source": [
    "Recall that we can express the solution as a linear combination of the training examples $ \\{\\phi(\\mathbf{x}_1), \\cdots, \\phi(\\mathbf{x}_n) \\}$:\n",
    "$$\n",
    "    \\begin{aligned}\n",
    "    \\mathbf{w} = \\sum_{j = 1}^n \\alpha_j y_j \\phi(\\mathbf{x}_j)\n",
    "    \\end{aligned}\n",
    "$$\n",
    "\n",
    "To simplify, we define $\\beta_j = \\alpha_j y_j$ and we can express the solution as: \n",
    "$$\n",
    "    \\begin{aligned}\n",
    "    \\mathbf{w} = \\sum_{j = 1}^n \\beta_j \\phi(\\mathbf{x}_j)\n",
    "    \\end{aligned}\n",
    "$$\n",
    "\n",
    "If we substitute the formulation above into our unconstrained regularized squared hinge loss, \n",
    "$$\n",
    "    \\begin{aligned}\n",
    "    \\min_{\\mathbf{w},b}\\underbrace{\\mathbf{w}^T\\mathbf{w}}_{l_{2} \\text{ regularizer} } +  C\\  \\sum_{i=1}^{n}\\underbrace{\\max\\left [ 1-y_{i}(\\mathbf{w}^T \\mathbf{x}_i+b),0 \\right ] ^2}_{ \\text{squared hinge loss} }\n",
    "    \\end{aligned}\n",
    "$$\n",
    "\n",
    "we obtain: \n",
    "\n",
    "$$\n",
    "\\begin{aligned}\n",
    "       \\underbrace{\\sum_{i = 1} ^n \\sum_{j = 1}^n \\beta_i  \\beta_j \\phi(\\mathbf{x} _i)^T \\phi(\\mathbf{x}_j)}_{l_{2} \\text{ regularizer}} +  C\\  \\sum_{i=1}^{n}\\underbrace{\\max\\left [ 1-y_{i}(\\sum_{j = 1}^n \\beta_j \\phi(\\mathbf{x}_j)^T \\phi(\\mathbf{x}_i)+b),0 \\right ] ^ 2}_{\\text{squared hinge loss}}     \n",
    "\\end{aligned}\n",
    "$$\n",
    "Now, if we replace all the $\\phi(\\mathbf{x} _i)^T \\phi(\\mathbf{x}_j)$ with $k(\\mathbf{x}_i, \\mathbf{x}_j)$, we obtained the \"kernelized\" hinge loss. \n",
    "\n",
    "$$\n",
    "\\begin{aligned}\n",
    "      \\min_{\\beta_1,\\cdots,\\beta_n, b} \\underbrace{\\sum_{i = 1} ^n \\sum_{j = 1}^n \\beta_i \\beta_j k(\\mathbf{x} _i, \\mathbf{x}_j)}_{l_{2} \\text{ regularizer}} +  C\\  \\sum_{i=1}^{n}\\underbrace{\\max\\left [ 1-y_{i}(\\sum_{j = 1}^n \\beta_j k(\\mathbf{x}_j, \\mathbf{x}_i)+b),0 \\right ] ^ 2}_{\\text{squared hinge loss}}\n",
    "\\end{aligned}\n",
    "$$\n",
    "\n",
    "The expression above seems a little bit unweildy, so we are going to simplify the expression again. First, we will simplfy the $l_{2}$ regularizer. Define $\\mathbf{\\beta} = [\\beta_1, \\cdots, \\beta_n]^T$ and $K_{train}$ to be the kernel matrix calculated on the training set, namely, the (i, j)-th entry of $K_{train}$ is $k(\\mathbf{x} _i, \\mathbf{x}_j)$. It is easy to verify that the $l_{2}$ regularizer can be expressed as the quadratic form  \n",
    "\n",
    "$$\n",
    "    \\sum_{i = 1} ^n \\sum_{j = 1}^n \\beta_i \\beta_j k(\\mathbf{x} _i, \\mathbf{x}_j) = \\mathbf{\\beta}^T K_{train} \\mathbf{\\beta}\n",
    "$$\n",
    "\n",
    "Now, let's simplify the squared hinge loss. To start, we define $K_{train}[i]$ as the i-th row of $k_{train}$ expressed as a column vector. Now, the summation term within the hinge loss can be expressed as: \n",
    "\n",
    "$$\n",
    "    \\sum_{ j = 1}^n \\beta_j k(\\mathbf{x}_j, \\mathbf{x}_i) = \\mathbf{\\beta}^T K_{train}[i]\n",
    "$$\n",
    "\n",
    "Combining the two simplifications we have, we arrive at the following expression for the loss function: \n",
    "$$\n",
    "\\begin{aligned}\n",
    "      \\min_{\\mathbf{\\beta}, b} \\underbrace{\\mathbf{\\beta}^T K_{train} \\mathbf{\\beta}}_{l_{2}  \\text{ regularizer}} +  C\\  \\sum_{i=1}^{n}\\underbrace{\\max\\left [ 1-y_{i}(\\mathbf{\\beta}^T K_{train}[i]+b),0 \\right ] ^ 2}_{\\text{squared hinge loss}}\n",
    "\\end{aligned}\n",
    "$$\n",
    "\n",
    "After we minimize this expression and have found a good $\\beta$ that works on the kernel generated from the training data, $K_{train}$, we can test using our $\\beta$ and calculating the loss against testing data: \n",
    "\n",
    "$$\n",
    "\\begin{aligned}\n",
    "      \\min_{\\mathbf{\\beta}, b} \\underbrace{\\mathbf{\\beta}^T K_{train} \\mathbf{\\beta}}_{l_{2}  \\text{ regularizer}} +  C\\  \\sum_{i=1}^{n}\\underbrace{\\max\\left [ 1-y_{i}(\\mathbf{\\beta}^T K_{test}[i]+b),0 \\right ] ^ 2}_{\\text{squared hinge loss}}\n",
    "\\end{aligned}\n",
    "$$\n",
    "\n",
    "Note that the loss function we have above is very similar to the vanilla linear SVM, the differences are: \n",
    "\n",
    "1. Instead of $\\mathbf{w}$, we have $\\mathbf{\\beta}$\n",
    "2. The $l_{2}$ regularizer $\\mathbf{w}^T \\mathbf{w} = \\mathbf{w}^T I \\mathbf{w}$ is changed to $\\mathbf{\\beta}^T K_{train} \\mathbf{\\beta}$ to account for using $\\mathbf{\\beta}$ instead of $\\mathbf{w}$\n",
    "3. The inner product $\\mathbf{w}^T \\mathbf{x}_i$ in the hinge loss is changed to $\\mathbf{\\beta}^T K_{train}[i]$"
   ]
  },
  {
   "cell_type": "markdown",
   "metadata": {
    "nbgrader": {
     "checksum": "7bcbbb62bd27c72b7b3ca6ea12a60e4b",
     "grade": false,
     "grade_id": "cell-c7a3782fe360f7c1",
     "locked": true,
     "schema_version": 1,
     "solution": false
    }
   },
   "source": [
    "This is useful because we never need to explicitly calculate $\\phi(\\mathbf x_i)$, which can be exponential in size, or in the case of RBF, have an infinite number of elements. On the other hand, $K$ will be a $m x n$ matrices that encapsulates all the data you would gain from $\\phi$. \n",
    "\n",
    "Note that in the following code you are passing in both training data (`xTr`, `yTr`) and testing data (`xTe`, `yTr`) to calculate two kernels, `kernel_train` and `kernel_test` respectively. Unfortunately, when we're training an algorithm, we don't have access to test data! That would make the test data a very poor evaluator of the performance of the algorithm. This function is written so that passing **training data** into the parameters `xTe` and `yTe` will train the SVM on training data to find the best betas. During testing, passing in **test data** into those variables can be used to evaluate how good your algorithm is."
   ]
  },
  {
   "cell_type": "code",
   "execution_count": 37,
   "metadata": {
    "nbgrader": {
     "checksum": "6b773dd4a9ca88f21dd30038cdc2df60",
     "grade": false,
     "grade_id": "cell-loss",
     "locked": false,
     "schema_version": 1,
     "solution": true
    }
   },
   "outputs": [],
   "source": [
    "def loss(beta, b, xTr, yTr, xTe, yTe, C, kerneltype, kpar=1):\n",
    "    \"\"\"\n",
    "    INPUT:\n",
    "    beta : n dimensional vector that stores the linear combination coefficient\n",
    "    xTr   : nxd dimensional matrix (training set, each row is an input vector)\n",
    "    yTr   : n   dimensional vector (training label, each entry is a label)\n",
    "    b     : scalar (bias)\n",
    "    xTe   : mxd dimensional matrix (test set, each row is an input vector)\n",
    "    yTe   : m dimensional vector (test label, each entry is a label)\n",
    "    C     : scalar (constant that controls the tradeoff between l2-regularizer and hinge-loss)\n",
    "    kerneltype: either 'linear','polynomial','rbf'\n",
    "    kpar  : kernel parameter (inverse kernel width gamma in case of RBF, degree in case of polynomial)\n",
    "    \n",
    "    OUTPUTS:\n",
    "    loss     : the total loss obtained with (beta, xTr, yTr, b) on xTe and yTe (scalar)\n",
    "    \"\"\"\n",
    "    \n",
    "    loss_val = 0.0\n",
    "    # compute the kernel values between xTr and xTr \n",
    "    kernel_train = computeK(kerneltype, xTr, xTr, kpar)\n",
    "    # compute the kernel values between xTe and xTr\n",
    "    kernel_test = computeK(kerneltype, xTe, xTr, kpar)\n",
    "    \n",
    "    # YOUR CODE HERE\n",
    "    n, d = np.shape(kernel_train)\n",
    "\n",
    "    for i in range(n):\n",
    "        A = (1- yTr[i]*(np.dot(beta.T,kernel_train[i])+b))\n",
    "        h = np.maximum(A,0) ** 2\n",
    "        loss_val = loss_val+h\n",
    "        \n",
    "    L2 = np.dot(np.dot(beta.T,kernel_train),beta)\n",
    "    loss_val = L2 + C * loss_val\n",
    "    loss_val = loss_val[0]\n",
    "\n",
    "    return loss_val"
   ]
  },
  {
   "cell_type": "code",
   "execution_count": 38,
   "metadata": {
    "nbgrader": {
     "checksum": "2823ffdc2bbc6dd28a406892661f7171",
     "grade": false,
     "grade_id": "cell-loss-selftest",
     "locked": true,
     "schema_version": 1,
     "solution": false
    }
   },
   "outputs": [
    {
     "name": "stdout",
     "output_type": "stream",
     "text": [
      "Running Test: loss_test1 ... ✔ Passed!\n",
      "Running Test: loss_test2 ... ✔ Passed!\n",
      "Running Test: loss_test3 ... ✔ Passed!\n",
      "Running Test: loss_test4 ... ✔ Passed!\n",
      "Running Test: loss_test5 ... ✔ Passed!\n",
      "Running Test: loss_test6 ... ✔ Passed!\n"
     ]
    }
   ],
   "source": [
    "# These tests test whether your loss() is implemented correctly\n",
    "\n",
    "xTr_test, yTr_test = generate_data()\n",
    "n, d = xTr_test.shape\n",
    "\n",
    "# Check whether your loss() returns a scalar\n",
    "def loss_test1():\n",
    "    beta = np.zeros(n)\n",
    "    b = np.zeros(1)\n",
    "    loss_val = loss(beta, b, xTr_test, yTr_test, xTr_test, yTr_test, 10, 'rbf')\n",
    "    \n",
    "    return np.isscalar(loss_val)\n",
    "\n",
    "\n",
    "# Check whether your loss() returns a nonnegative scalar\n",
    "def loss_test2():\n",
    "    beta = np.random.rand(n)\n",
    "    b = np.random.rand(1)\n",
    "    loss_val = loss(beta, b, xTr_test, yTr_test, xTr_test, yTr_test, 10, 'rbf')\n",
    "    \n",
    "    return loss_val >= 0\n",
    "\n",
    "# Check whether you implement l2-regularizer correctly\n",
    "def loss_test3():\n",
    "    beta = np.random.rand(n)\n",
    "    b = np.random.rand(1)\n",
    "    loss_val = loss(beta, b, xTr_test, yTr_test, xTr_test, yTr_test, 0, 'rbf')\n",
    "    loss_val_grader = loss_grader(beta, b, xTr_test, yTr_test, xTr_test, yTr_test, 0, 'rbf')\n",
    "    \n",
    "    return (np.linalg.norm(loss_val - loss_val_grader) < 1e-5)\n",
    "\n",
    "loss_test3()\n",
    "\n",
    "# Check whether you implement square hinge loss correctly\n",
    "def loss_test4():\n",
    "    beta = np.zeros(n)\n",
    "    b = np.random.rand(1)\n",
    "    loss_val = loss(beta, b, xTr_test, yTr_test, xTr_test, yTr_test, 10, 'rbf')\n",
    "    loss_val_grader = loss_grader(beta, b, xTr_test, yTr_test, xTr_test, yTr_test, 10, 'rbf')\n",
    "    \n",
    "    return (np.linalg.norm(loss_val - loss_val_grader) < 1e-5)\n",
    "\n",
    "# Check whether you implement square hinge loss correctly\n",
    "def loss_test5():\n",
    "    beta = np.zeros(n)\n",
    "    b = np.random.rand(1)\n",
    "    loss_val = loss(beta, b, xTr_test, yTr_test, xTr_test, yTr_test, 10, 'rbf')\n",
    "    loss_val_grader = loss_grader(beta, b, xTr_test, yTr_test, xTr_test, yTr_test, 10, 'rbf')\n",
    "    \n",
    "    return (np.linalg.norm(loss_val - loss_val_grader) < 1e-5)\n",
    "\n",
    "# Check whether you implement loss correctly\n",
    "def loss_test6():\n",
    "    beta = np.zeros(n)\n",
    "    b = np.random.rand(1)\n",
    "    loss_val = loss(beta, b, xTr_test, yTr_test, xTr_test, yTr_test, 100, 'rbf')\n",
    "    loss_val_grader = loss_grader(beta, b, xTr_test, yTr_test, xTr_test, yTr_test, 100, 'rbf')\n",
    "    \n",
    "    return (np.linalg.norm(loss_val - loss_val_grader) < 1e-5)\n",
    "\n",
    "runtest(loss_test1,'loss_test1')\n",
    "runtest(loss_test2,'loss_test2')\n",
    "runtest(loss_test3,'loss_test3')\n",
    "runtest(loss_test4,'loss_test4')\n",
    "runtest(loss_test5,'loss_test5')\n",
    "runtest(loss_test6,'loss_test6')"
   ]
  },
  {
   "cell_type": "code",
   "execution_count": 39,
   "metadata": {
    "nbgrader": {
     "checksum": "e8a8bf4f84c63257cc5027f369297d0c",
     "grade": true,
     "grade_id": "cell-loss-test1",
     "locked": true,
     "points": 1,
     "schema_version": 1,
     "solution": false
    }
   },
   "outputs": [],
   "source": [
    "# Autograder test cell - worth 1 point\n",
    "# runs loss_test1"
   ]
  },
  {
   "cell_type": "code",
   "execution_count": 40,
   "metadata": {
    "nbgrader": {
     "checksum": "8c5cb3e3eadf76dd90def267e635eb40",
     "grade": true,
     "grade_id": "cell-loss-test2",
     "locked": true,
     "points": 1,
     "schema_version": 1,
     "solution": false
    }
   },
   "outputs": [],
   "source": [
    "# Autograder test cell - worth 1 point\n",
    "# runs loss test2"
   ]
  },
  {
   "cell_type": "code",
   "execution_count": 41,
   "metadata": {
    "nbgrader": {
     "checksum": "29108ff977a3e1b6684abcdf4fe5686f",
     "grade": true,
     "grade_id": "cell-loss-test3",
     "locked": true,
     "points": 1,
     "schema_version": 1,
     "solution": false
    }
   },
   "outputs": [],
   "source": [
    "# Autograder test cell - worth 1 point\n",
    "# runs loss test3beta @ kernel_train"
   ]
  },
  {
   "cell_type": "code",
   "execution_count": 42,
   "metadata": {
    "nbgrader": {
     "checksum": "0ada7379e6811b8d2ed8c9a13a469f08",
     "grade": true,
     "grade_id": "cell-loss-test4",
     "locked": true,
     "points": 1,
     "schema_version": 1,
     "solution": false
    }
   },
   "outputs": [],
   "source": [
    "# Autograder test cell - worth 1 point\n",
    "# runs loss test4"
   ]
  },
  {
   "cell_type": "code",
   "execution_count": 43,
   "metadata": {
    "nbgrader": {
     "checksum": "02b8b483e19d5c129f7cc8f2c3cd495a",
     "grade": true,
     "grade_id": "cell-loss-test5",
     "locked": true,
     "points": 1,
     "schema_version": 1,
     "solution": false
    }
   },
   "outputs": [],
   "source": [
    "# Autograder test cell - worth 1 point\n",
    "# runs loss test5"
   ]
  },
  {
   "cell_type": "code",
   "execution_count": 44,
   "metadata": {
    "nbgrader": {
     "checksum": "52d0e4ff5205be1aa4a08460ca8f211f",
     "grade": true,
     "grade_id": "cell-loss-test6",
     "locked": true,
     "points": 1,
     "schema_version": 1,
     "solution": false
    }
   },
   "outputs": [],
   "source": [
    "# Autograder test cell - worth 1 point\n",
    "# runs loss test6"
   ]
  },
  {
   "cell_type": "markdown",
   "metadata": {
    "nbgrader": {
     "checksum": "71b919429830619a8df0d7a746949660",
     "grade": false,
     "grade_id": "cell-349f46a1eb425985",
     "locked": true,
     "schema_version": 1,
     "solution": false
    }
   },
   "source": [
    "### Part Three: Compute Gradient [Graded]\n",
    "\n",
    "Now, you will need to implement function `grad`, that computes the gradient of the loss function, similarly to what you needed to do in the Linear SVM project. This function has the same input parameters as `loss` and requires the gradient with respect to $\\beta$ (`beta_grad`) and $b$ (`bgrad`). Remember that the squared hinge loss is calculated with $K_{train}$ when training, and $K_{test}$ when testing. In the code, you can represent this by using the variables associated with testing (i.e. `xTe`, `yTe`, and `k_test`), since they will contain training data if you are training the SVM.\n",
    "\n",
    "Recall the expression for loss from above. First we take the derivative with respect to $\\beta$:\n",
    "$$\n",
    "      \\frac{\\partial \\mathcal L}{\\partial \\mathbf \\beta} =  2{K_{train} \\mathbf{\\beta}} +  C\\  \\sum_{i=1}^{n}{ 2 \\max\\left [ 1-y_{i}(\\mathbf{\\beta}^T K_{test}[i]+b),0 \\right ] (-y_i K_{test}[i])}\n",
    "$$\n",
    "Then, with respect to $b$:\n",
    "$$\n",
    "      \\frac{\\partial \\mathcal L}{\\delta b} =  C\\  \\sum_{i=1}^{n}{ 2 \\max\\left [ 1-y_{i}(\\mathbf{\\beta}^T K_{test}[i]+b),0 \\right ] (-y_i)}\n",
    "$$\n"
   ]
  },
  {
   "cell_type": "code",
   "execution_count": 45,
   "metadata": {
    "nbgrader": {
     "checksum": "274ba7ab2c5682b4e4589adb75d38a57",
     "grade": false,
     "grade_id": "cell-grad",
     "locked": false,
     "schema_version": 1,
     "solution": true
    }
   },
   "outputs": [],
   "source": [
    "def grad(beta, b, xTr, yTr, xTe, yTe, C, kerneltype, kpar=1):\n",
    "    \"\"\"\n",
    "    INPUT:\n",
    "    beta : n dimensional vector that stores the linear combination coefficient\n",
    "    xTr   : nxd dimensional matrix (training set, each row is an input vector)\n",
    "    yTr   : n   dimensional vector (training label, each entry is a label)\n",
    "    b     : scalar (bias)\n",
    "    xTe   : mxd dimensional matrix (test set, each row is an input vector)\n",
    "    yTe   : m dimensional vector (test label, each entry is a label)\n",
    "    C     : scalar (constant that controls the tradeoff between l2-regularizer and hinge-loss)\n",
    "    kerneltype: either 'linear','polynomial','rbf'\n",
    "    kpar  : kernel parameter (inverse kernel width gamma in case of RBF, degree in case of polynomial)\n",
    "    \n",
    "    \n",
    "    OUTPUTS:\n",
    "    beta_grad :  n dimensional vector (the gradient of the hinge loss with respect to the alphas)\n",
    "    bgrad :  constant (the gradient of he hinge loss with respect to the bias, b)\n",
    "    \"\"\"\n",
    "    \n",
    "    n, d = xTr.shape\n",
    "    \n",
    "    beta_grad = np.zeros(n)\n",
    "    bgrad = np.zeros(1)\n",
    "    \n",
    "    # compute the kernel values between xTr and xTr \n",
    "    kernel_train = computeK(kerneltype, xTr, xTr, kpar)\n",
    "    # compute the kernel values between xTe and xTr\n",
    "    kernel_test = computeK(kerneltype, xTe, xTr, kpar)\n",
    "    \n",
    "    # YOUR CODE HERE\n",
    "\n",
    "    \n",
    "    for i in range(n):\n",
    "        A = (1- yTr[i]*(np.dot(beta.T,kernel_test[i])+b))\n",
    "        h = np.maximum(A,0)*(-yTr[i])\n",
    "        bgrad = bgrad+h\n",
    "\n",
    "    bgrad =  2* C * bgrad\n",
    "    bgrad = bgrad[0]\n",
    "    \n",
    "    \n",
    "    for i in range(n):\n",
    "        A = (1- yTr[i]*(np.dot(beta.T,kernel_test[i])+b))\n",
    "        h = np.maximum(A,0)*(-yTr[i]*kernel_test[i])\n",
    "        beta_grad = beta_grad+h\n",
    "\n",
    "    beta_grad = 2*np.dot(kernel_train,beta) + 2*C*beta_grad\n",
    "    \n",
    "    return beta_grad, bgrad"
   ]
  },
  {
   "cell_type": "code",
   "execution_count": 46,
   "metadata": {
    "nbgrader": {
     "checksum": "4c1a519832c2737297578a689d9ae085",
     "grade": false,
     "grade_id": "cell-grad-selftest",
     "locked": true,
     "schema_version": 1,
     "solution": false
    }
   },
   "outputs": [
    {
     "name": "stdout",
     "output_type": "stream",
     "text": [
      "Running Test: grad_test1 ... ✔ Passed!\n",
      "Running Test: grad_test2 ... ✔ Passed!\n",
      "Running Test: grad_test3 ... ✔ Passed!\n",
      "Running Test: grad_test4 ... ✔ Passed!\n",
      "Running Test: grad_test5 ... ✔ Passed!\n"
     ]
    }
   ],
   "source": [
    "# These tests test whether your grad() is implemented correctly\n",
    "\n",
    "xTr_test, yTr_test = generate_data()\n",
    "n, d = xTr_test.shape\n",
    "\n",
    "# Checks whether grad returns a tuple\n",
    "def grad_test1():\n",
    "    beta = np.random.rand(n)\n",
    "    b = np.random.rand(1)\n",
    "    out = grad(beta, b, xTr_test, yTr_test, xTr_test, yTr_test, 10, 'rbf')\n",
    "    return len(out) == 2\n",
    "\n",
    "# Checks the dimension of gradients\n",
    "def grad_test2():\n",
    "    beta = np.random.rand(n)\n",
    "    b = np.random.rand(1)\n",
    "    beta_grad, bgrad = grad(beta, b, xTr_test, yTr_test, xTr_test, yTr_test, 10, 'rbf')\n",
    "    return len(beta_grad) == n and np.isscalar(bgrad)\n",
    "\n",
    "# Checks the gradient of the l2 regularizer\n",
    "def grad_test3():\n",
    "    beta = np.random.rand(n)\n",
    "    b = np.random.rand(1)\n",
    "    beta_grad, bgrad = grad(beta, b, xTr_test, yTr_test, xTr_test, yTr_test, 0, 'rbf')\n",
    "    beta_grad_grader, bgrad_grader = grad_grader(beta, b, xTr_test, yTr_test, xTr_test, yTr_test, 0, 'rbf')\n",
    "    return (np.linalg.norm(beta_grad - beta_grad_grader) < 1e-5) and \\\n",
    "        (np.linalg.norm(bgrad - bgrad_grader) < 1e-5)\n",
    "\n",
    "# Checks the gradient of the square hinge loss\n",
    "def grad_test4():\n",
    "    beta = np.zeros(n)\n",
    "    b = np.random.rand(1)\n",
    "    beta_grad, bgrad = grad(beta, b, xTr_test, yTr_test, xTr_test, yTr_test, 1, 'rbf')\n",
    "    beta_grad_grader, bgrad_grader = grad_grader(beta, b, xTr_test, yTr_test, xTr_test, yTr_test, 1, 'rbf')\n",
    "    return (np.linalg.norm(beta_grad - beta_grad_grader) < 1e-5) and \\\n",
    "        (np.linalg.norm(bgrad - bgrad_grader) < 1e-5)\n",
    "\n",
    "# Checks the gradient of the loss\n",
    "def grad_test5():\n",
    "    beta = np.random.rand(n)\n",
    "    b = np.random.rand(1)\n",
    "    beta_grad, bgrad = grad(beta, b, xTr_test, yTr_test, xTr_test, yTr_test, 10, 'rbf')\n",
    "    beta_grad_grader, bgrad_grader = grad_grader(beta, b, xTr_test, yTr_test, xTr_test, yTr_test, 10, 'rbf')\n",
    "    return (np.linalg.norm(beta_grad - beta_grad_grader) < 1e-5) and \\\n",
    "        (np.linalg.norm(bgrad - bgrad_grader) < 1e-5)\n",
    "\n",
    "runtest(grad_test1, 'grad_test1')\n",
    "runtest(grad_test2, 'grad_test2')\n",
    "runtest(grad_test3, 'grad_test3')\n",
    "runtest(grad_test4, 'grad_test4')\n",
    "runtest(grad_test5, 'grad_test5')"
   ]
  },
  {
   "cell_type": "code",
   "execution_count": null,
   "metadata": {
    "nbgrader": {
     "checksum": "e6a5e50adcf9780a271d1d05c561fdaf",
     "grade": true,
     "grade_id": "cell-grad-test1",
     "locked": true,
     "points": 1,
     "schema_version": 1,
     "solution": false
    }
   },
   "outputs": [],
   "source": [
    "# Autograder test cell - worth 1 point\n",
    "# runs grad test1"
   ]
  },
  {
   "cell_type": "code",
   "execution_count": null,
   "metadata": {
    "nbgrader": {
     "checksum": "9092ccd637ef0692daf56b2d73f025a4",
     "grade": true,
     "grade_id": "cell-grad-test2",
     "locked": true,
     "points": 1,
     "schema_version": 1,
     "solution": false
    }
   },
   "outputs": [],
   "source": [
    "# Autograder test cell - worth 1 point\n",
    "# runs grad test2"
   ]
  },
  {
   "cell_type": "code",
   "execution_count": null,
   "metadata": {
    "nbgrader": {
     "checksum": "49eef008dacc9d50d1e58f47be24cceb",
     "grade": true,
     "grade_id": "cell-grad-test3",
     "locked": true,
     "points": 1,
     "schema_version": 1,
     "solution": false
    }
   },
   "outputs": [],
   "source": [
    "# Autograder test cell - worth 1 point\n",
    "# runs grad test3"
   ]
  },
  {
   "cell_type": "code",
   "execution_count": null,
   "metadata": {
    "nbgrader": {
     "checksum": "f0f17b5b6aa3d7e8cd72fb7fc4601e18",
     "grade": true,
     "grade_id": "cell-grad-test4",
     "locked": true,
     "points": 1,
     "schema_version": 1,
     "solution": false
    }
   },
   "outputs": [],
   "source": [
    "# Autograder test cell - worth 1 point\n",
    "# runs grad test4"
   ]
  },
  {
   "cell_type": "code",
   "execution_count": null,
   "metadata": {
    "nbgrader": {
     "checksum": "9868abc360f647a4d380736d02d8dc84",
     "grade": true,
     "grade_id": "cell-grad-test5",
     "locked": true,
     "points": 1,
     "schema_version": 1,
     "solution": false
    }
   },
   "outputs": [],
   "source": [
    "# Autograder test cell - worth 1 point\n",
    "# runs grad test5"
   ]
  },
  {
   "cell_type": "markdown",
   "metadata": {},
   "source": [
    "## Test the Kernelized Algorithm"
   ]
  },
  {
   "cell_type": "markdown",
   "metadata": {
    "nbgrader": {
     "checksum": "4c4d8c09ffbf9120e11ee6f4a3394896",
     "grade": false,
     "grade_id": "cell-7ad9af17accaddf0",
     "locked": true,
     "schema_version": 1,
     "solution": false
    }
   },
   "source": [
    "Using the cell below, you can call the optimization routine that we have implemented for you to see the final loss of your model. "
   ]
  },
  {
   "cell_type": "code",
   "execution_count": null,
   "metadata": {
    "nbgrader": {
     "checksum": "3fbef25ee0141412860201fb3fbba70b",
     "grade": false,
     "grade_id": "cell-fa26a32043f70279",
     "locked": true,
     "schema_version": 1,
     "solution": false
    }
   },
   "outputs": [],
   "source": [
    "beta_sol, bias_sol, final_loss = minimize(objective=loss, grad=grad, xTr=xTr, yTr=yTr, C=1000, kerneltype='linear', kpar=1)\n",
    "print('The Final Loss of your model is: {:0.4f}'.format(final_loss))"
   ]
  },
  {
   "cell_type": "markdown",
   "metadata": {
    "nbgrader": {
     "checksum": "969d1816c68107fd6e4b0a97e848fd79",
     "grade": false,
     "grade_id": "cell-8e81c269f495b733",
     "locked": true,
     "schema_version": 1,
     "solution": false
    }
   },
   "source": [
    "If everything is implemented correctly, you should be able to get a training error of zero when you run the following cell."
   ]
  },
  {
   "cell_type": "code",
   "execution_count": null,
   "metadata": {
    "nbgrader": {
     "checksum": "fd399d2efdadd3da916d754190cd296e",
     "grade": false,
     "grade_id": "cell-20ca56dcce47a510",
     "locked": true,
     "schema_version": 1,
     "solution": false
    }
   },
   "outputs": [],
   "source": [
    "svmclassify = lambda x: np.sign(computeK('linear', x, xTr, 1).dot(beta_sol) + bias_sol)\n",
    "\n",
    "predsTr=svmclassify(xTr)\n",
    "trainingerr=np.mean(np.sign(predsTr)!=yTr)\n",
    "print(\"Training error: %2.4f\" % trainingerr)"
   ]
  },
  {
   "cell_type": "markdown",
   "metadata": {
    "nbgrader": {
     "checksum": "d42a7b6df0a29f387b4e162d68f3b909",
     "grade": false,
     "grade_id": "cell-d7214490d41e9d20",
     "locked": true,
     "schema_version": 1,
     "solution": false
    }
   },
   "source": [
    "<h3>Visualize the Decision Boundary</h3>\n",
    "\n",
    "Also, when you visualize the classifier, you should see a max margin separator."
   ]
  },
  {
   "cell_type": "code",
   "execution_count": null,
   "metadata": {
    "nbgrader": {
     "checksum": "dbb14f7b31b7bc70090dd8e6a4b6364e",
     "grade": false,
     "grade_id": "cell-e0f813d39a20941d",
     "locked": true,
     "schema_version": 1,
     "solution": false
    }
   },
   "outputs": [],
   "source": [
    "%matplotlib notebook\n",
    "visclassifier(svmclassify, xTr, yTr)"
   ]
  },
  {
   "cell_type": "markdown",
   "metadata": {
    "nbgrader": {
     "checksum": "b2d9ad8aa8f8309e1e1750341e3850f9",
     "grade": false,
     "grade_id": "cell-f922d756ef836ee9",
     "locked": true,
     "schema_version": 1,
     "solution": false
    }
   },
   "source": [
    "Let's visualize a different kind of nonlinear data, a spiral dataset."
   ]
  },
  {
   "cell_type": "code",
   "execution_count": null,
   "metadata": {
    "nbgrader": {
     "checksum": "1df147ff056c225f6f976be84300be17",
     "grade": false,
     "grade_id": "cell-c69bc918b0db1293",
     "locked": true,
     "schema_version": 1,
     "solution": false
    }
   },
   "outputs": [],
   "source": [
    "xTr_spiral,yTr_spiral,xTe_spiral,yTe_spiral = spiraldata()\n",
    "\n",
    "%matplotlib notebook\n",
    "visualize_2D(xTr_spiral, yTr_spiral)"
   ]
  },
  {
   "cell_type": "markdown",
   "metadata": {
    "nbgrader": {
     "checksum": "4a7b22eebbbb2cd8130aa96efc749250",
     "grade": false,
     "grade_id": "cell-89594e6378c785cb",
     "locked": true,
     "schema_version": 1,
     "solution": false
    }
   },
   "source": [
    "Since the dataset is nonlinear, we are going to use the rbf kernel."
   ]
  },
  {
   "cell_type": "code",
   "execution_count": null,
   "metadata": {
    "nbgrader": {
     "checksum": "4bcc6e72296c2754bdffac09886062b3",
     "grade": false,
     "grade_id": "cell-f4114c6db1b51e2c",
     "locked": true,
     "schema_version": 1,
     "solution": false
    }
   },
   "outputs": [],
   "source": [
    "beta_sol_spiral, bias_sol_spiral, final_loss_spiral = minimize(objective=loss, grad=grad, xTr=xTr_spiral, yTr=yTr_spiral, C=100, kerneltype='rbf', kpar=1)\n",
    "print('The Final Loss of your model is: {:0.4f}'.format(final_loss_spiral))"
   ]
  },
  {
   "cell_type": "markdown",
   "metadata": {
    "nbgrader": {
     "checksum": "3024813dcdb212a3e6c40b87b6128d64",
     "grade": false,
     "grade_id": "cell-28c6cee7c68d04e9",
     "locked": true,
     "schema_version": 1,
     "solution": false
    }
   },
   "source": [
    "If you do everything correctly, your training error and test error should both be zero!"
   ]
  },
  {
   "cell_type": "code",
   "execution_count": null,
   "metadata": {
    "nbgrader": {
     "checksum": "25a221d777e6a1d4838b9449fd33c46e",
     "grade": false,
     "grade_id": "cell-16357e4762b8370b",
     "locked": true,
     "schema_version": 1,
     "solution": false
    }
   },
   "outputs": [],
   "source": [
    "svmclassify_spiral = lambda x: np.sign(computeK('rbf', xTr_spiral, x, 1).transpose().dot(beta_sol_spiral) + bias_sol_spiral)\n",
    "\n",
    "predsTr_spiral = svmclassify_spiral(xTr_spiral)\n",
    "trainingerr_spiral = np.mean(predsTr_spiral != yTr_spiral)\n",
    "print(\"Training error: %2.4f\" % trainingerr_spiral)\n",
    "\n",
    "predsTe_spiral = svmclassify_spiral(xTe_spiral)\n",
    "testerr_spiral = np.mean(predsTe_spiral != yTe_spiral)\n",
    "print(\"Test error: %2.4f\" % testerr_spiral)"
   ]
  },
  {
   "cell_type": "markdown",
   "metadata": {
    "nbgrader": {
     "checksum": "5258391aaa1011f9114a967201e65783",
     "grade": false,
     "grade_id": "cell-52cb1b9aae3993cb",
     "locked": true,
     "schema_version": 1,
     "solution": false
    }
   },
   "source": [
    "Now, let's visualize the classifier on the spiral dataset!"
   ]
  },
  {
   "cell_type": "code",
   "execution_count": null,
   "metadata": {
    "nbgrader": {
     "checksum": "3ed86f72e1c71972c4248d46c6221ad1",
     "grade": false,
     "grade_id": "cell-40d1227ae7bf20e6",
     "locked": true,
     "schema_version": 1,
     "solution": false
    }
   },
   "outputs": [],
   "source": [
    "visclassifier(svmclassify_spiral, xTr_spiral, yTr_spiral)"
   ]
  },
  {
   "cell_type": "markdown",
   "metadata": {
    "nbgrader": {
     "checksum": "92802bb8686f9f8c5ae50283635cec52",
     "grade": false,
     "grade_id": "cell-bf3cce5e4e644ea2",
     "locked": true,
     "schema_version": 1,
     "solution": false
    }
   },
   "source": [
    "<h3>Interactive Demo</h3>\n",
    "\n",
    "Running the code below will create an interactive window where you can click to add new data points to see how a kernel SVM with RBF kernel will respond. There may be a significant delay between clicks."
   ]
  },
  {
   "cell_type": "code",
   "execution_count": null,
   "metadata": {
    "nbgrader": {
     "checksum": "2d05d006a1895e81a2b59293b3fe1261",
     "grade": false,
     "grade_id": "cell-a0d798f051f76bad",
     "locked": true,
     "schema_version": 1,
     "solution": false
    }
   },
   "outputs": [],
   "source": [
    "Xdata = []\n",
    "ldata = []\n",
    "svmC=10;\n",
    "\n",
    "fig = plt.figure()\n",
    "details = {\n",
    "    'ax': fig.add_subplot(111), \n",
    "}\n",
    "\n",
    "plt.xlim(0,1)\n",
    "plt.ylim(0,1)\n",
    "plt.title('Click to add positive point and shift+click to add negative points.')\n",
    "\n",
    "def vis2(fun,xTr,yTr):\n",
    "    yTr = np.array(yTr).flatten()\n",
    "    symbols = [\"ko\",\"kx\"]\n",
    "    marker_symbols = ['o', 'x']\n",
    "    mycolors = [[0.5, 0.5, 1], [1, 0.5, 0.5]]\n",
    "    classvals = np.unique(yTr)\n",
    "    res=150\n",
    "    xrange = np.linspace(0,1,res)\n",
    "    yrange = np.linspace(0,1,res)\n",
    "    pixelX = repmat(xrange, res, 1)\n",
    "    pixelY = repmat(yrange, res, 1).T\n",
    "    xTe = np.array([pixelX.flatten(), pixelY.flatten()]).T\n",
    "    testpreds = fun(xTe)\n",
    "    Z = testpreds.reshape(res, res)\n",
    "    plt.contourf(pixelX, pixelY, np.sign(Z), colors=mycolors)\n",
    "\n",
    "    for idx, c in enumerate(classvals):\n",
    "        plt.scatter(xTr[yTr == c,0],\n",
    "            xTr[yTr == c,1],\n",
    "            marker=marker_symbols[idx],\n",
    "            color='k'\n",
    "           )\n",
    "    plt.show()\n",
    "\n",
    "\n",
    "def generate_onclick(Xdata, ldata):    \n",
    "    global details\n",
    "    def onclick(event):\n",
    "        if event.key == 'shift': \n",
    "            # add positive point\n",
    "            details['ax'].plot(event.xdata,event.ydata,'or')\n",
    "            label = 1\n",
    "        else: # add negative point\n",
    "            details['ax'].plot(event.xdata,event.ydata,'ob')\n",
    "            label = -1    \n",
    "        pos = np.array([event.xdata, event.ydata])\n",
    "        ldata.append(label)\n",
    "        Xdata.append(pos)\n",
    "        \n",
    "        X=np.array(Xdata)\n",
    "        Y=np.array(ldata)\n",
    "        beta_sol, bias_sol, final_loss = minimize(objective=loss, grad=grad, xTr=X, yTr=Y, C=svmC, kerneltype='rbf', kpar=1)\n",
    "        svmclassify_demo = lambda x: np.sign(computeK('rbf', X, x, 1).transpose().dot(beta_sol) + bias_sol)\n",
    "        vis2(svmclassify_demo, X, Y)    \n",
    "    return onclick\n",
    "\n",
    "\n",
    "cid = fig.canvas.mpl_connect('button_press_event', generate_onclick(Xdata, ldata))\n",
    "plt.show()"
   ]
  }
 ],
 "metadata": {
  "kernelspec": {
   "display_name": "Python 3",
   "language": "python",
   "name": "python3"
  },
  "language_info": {
   "codemirror_mode": {
    "name": "ipython",
    "version": 3
   },
   "file_extension": ".py",
   "mimetype": "text/x-python",
   "name": "python",
   "nbconvert_exporter": "python",
   "pygments_lexer": "ipython3",
   "version": "3.6.8"
  }
 },
 "nbformat": 4,
 "nbformat_minor": 4
}
